{
 "cells": [
  {
   "cell_type": "markdown",
   "metadata": {
    "id": "75b58048-7d14-4fc6-8085-1fc08c81b4a6"
   },
   "source": [
    "# Fine-Tune Whisper For Farsi ASR"
   ]
  },
  {
   "cell_type": "markdown",
   "metadata": {},
   "source": [
    "## Dependencies"
   ]
  },
  {
   "cell_type": "code",
   "execution_count": null,
   "metadata": {
    "execution": {
     "iopub.execute_input": "2025-01-23T12:11:40.242638Z",
     "iopub.status.busy": "2025-01-23T12:11:40.242171Z",
     "iopub.status.idle": "2025-01-23T12:11:48.749035Z",
     "shell.execute_reply": "2025-01-23T12:11:48.747891Z",
     "shell.execute_reply.started": "2025-01-23T12:11:40.242595Z"
    },
    "trusted": true
   },
   "outputs": [],
   "source": [
    "!pip install --upgrade --quiet pip\n",
    "!pip install --upgrade --quiet tensorflow tensorboard tensorflow-decision-forests datasets[audio] transformers accelerate evaluate jiwer gradio"
   ]
  },
  {
   "cell_type": "markdown",
   "metadata": {
    "id": "b219c9dd-39b6-4a95-b2a1-3f547a1e7bc0"
   },
   "source": [
    "## Load Dataset"
   ]
  },
  {
   "cell_type": "code",
   "execution_count": null,
   "metadata": {
    "execution": {
     "iopub.execute_input": "2025-01-23T12:11:48.788611Z",
     "iopub.status.busy": "2025-01-23T12:11:48.788365Z",
     "iopub.status.idle": "2025-01-23T12:11:54.519829Z",
     "shell.execute_reply": "2025-01-23T12:11:54.519122Z",
     "shell.execute_reply.started": "2025-01-23T12:11:48.788591Z"
    },
    "id": "a2787582-554f-44ce-9f38-4180a5ed6b44",
    "trusted": true
   },
   "outputs": [],
   "source": [
    "from datasets import load_dataset, DatasetDict\n",
    "\n",
    "common_voice = DatasetDict()\n",
    "\n",
    "\n",
    "common_voice[\"train\"] = load_dataset('pourmand1376/asr-farsi-youtube-chunked-30-seconds', split='train') # TODO: revert it\n",
    "common_voice[\"val\"] = load_dataset('pourmand1376/asr-farsi-youtube-chunked-30-seconds', split='val')\n",
    "common_voice[\"test\"] =load_dataset('pourmand1376/asr-farsi-youtube-chunked-30-seconds', split='test')\n",
    "\n",
    "common_voice"
   ]
  },
  {
   "cell_type": "markdown",
   "metadata": {
    "id": "2d63b2d2-f68a-4d74-b7f1-5127f6d16605"
   },
   "source": [
    "## Prepare Feature Extractor, Tokenizer and Data"
   ]
  },
  {
   "cell_type": "markdown",
   "metadata": {
    "id": "560332eb-3558-41a1-b500-e83a9f695f84"
   },
   "source": [
    "### Load WhisperFeatureExtractor"
   ]
  },
  {
   "cell_type": "code",
   "execution_count": null,
   "metadata": {
    "execution": {
     "iopub.execute_input": "2025-01-23T12:11:57.811702Z",
     "iopub.status.busy": "2025-01-23T12:11:57.811134Z",
     "iopub.status.idle": "2025-01-23T12:12:00.049718Z",
     "shell.execute_reply": "2025-01-23T12:12:00.048908Z",
     "shell.execute_reply.started": "2025-01-23T12:11:57.811671Z"
    },
    "id": "bc77d7bb-f9e2-47f5-b663-30f7a4321ce5",
    "trusted": true
   },
   "outputs": [],
   "source": [
    "from transformers import WhisperFeatureExtractor\n",
    "\n",
    "feature_extractor = WhisperFeatureExtractor.from_pretrained(\"openai/whisper-small\")"
   ]
  },
  {
   "cell_type": "markdown",
   "metadata": {
    "id": "93748af7-b917-4ecf-a0c8-7d89077ff9cb"
   },
   "source": [
    "### Load WhisperTokenizer"
   ]
  },
  {
   "cell_type": "code",
   "execution_count": null,
   "metadata": {
    "execution": {
     "iopub.execute_input": "2025-01-23T12:12:00.051192Z",
     "iopub.status.busy": "2025-01-23T12:12:00.050824Z",
     "iopub.status.idle": "2025-01-23T12:12:00.359255Z",
     "shell.execute_reply": "2025-01-23T12:12:00.358579Z",
     "shell.execute_reply.started": "2025-01-23T12:12:00.051157Z"
    },
    "id": "c7b07f9b-ae0e-4f89-98f0-0c50d432eab6",
    "outputId": "5c004b44-86e7-4e00-88be-39e0af5eed69",
    "trusted": true
   },
   "outputs": [],
   "source": [
    "from transformers import WhisperTokenizer\n",
    "\n",
    "tokenizer = WhisperTokenizer.from_pretrained(\"openai/whisper-small\", language=\"fa\", task=\"transcribe\")"
   ]
  },
  {
   "cell_type": "markdown",
   "metadata": {
    "id": "d2ef23f3-f4a8-483a-a2dc-080a7496cb1b"
   },
   "source": [
    "### Combine To Create A WhisperProcessor"
   ]
  },
  {
   "cell_type": "code",
   "execution_count": null,
   "metadata": {
    "execution": {
     "iopub.execute_input": "2025-01-23T12:12:00.360739Z",
     "iopub.status.busy": "2025-01-23T12:12:00.360514Z",
     "iopub.status.idle": "2025-01-23T12:12:02.186659Z",
     "shell.execute_reply": "2025-01-23T12:12:02.185698Z",
     "shell.execute_reply.started": "2025-01-23T12:12:00.360721Z"
    },
    "id": "77d9f0c5-8607-4642-a8ac-c3ab2e223ea6",
    "trusted": true
   },
   "outputs": [],
   "source": [
    "from transformers import WhisperProcessor\n",
    "\n",
    "processor = WhisperProcessor.from_pretrained(\"openai/whisper-small\", language=\"fa\", task=\"transcribe\")"
   ]
  },
  {
   "cell_type": "markdown",
   "metadata": {
    "id": "381acd09-0b0f-4d04-9eb3-f028ac0e5f2c"
   },
   "source": [
    "### Prepare Data"
   ]
  },
  {
   "cell_type": "code",
   "execution_count": null,
   "metadata": {
    "execution": {
     "iopub.execute_input": "2025-01-23T12:12:03.529818Z",
     "iopub.status.busy": "2025-01-23T12:12:03.529259Z",
     "iopub.status.idle": "2025-01-23T12:12:03.544252Z",
     "shell.execute_reply": "2025-01-23T12:12:03.543365Z",
     "shell.execute_reply.started": "2025-01-23T12:12:03.529791Z"
    },
    "id": "f12e2e57-156f-417b-8cfb-69221cc198e8",
    "trusted": true
   },
   "outputs": [],
   "source": [
    "from datasets import Audio\n",
    "\n",
    "common_voice = common_voice.cast_column(\"audio\", Audio(sampling_rate=16000))"
   ]
  },
  {
   "cell_type": "code",
   "execution_count": null,
   "metadata": {
    "execution": {
     "iopub.execute_input": "2025-01-23T12:12:04.350326Z",
     "iopub.status.busy": "2025-01-23T12:12:04.350003Z",
     "iopub.status.idle": "2025-01-23T12:12:04.354503Z",
     "shell.execute_reply": "2025-01-23T12:12:04.353601Z",
     "shell.execute_reply.started": "2025-01-23T12:12:04.350300Z"
    },
    "id": "6525c478-8962-4394-a1c4-103c54cce170",
    "trusted": true
   },
   "outputs": [],
   "source": [
    "def prepare_dataset(batch):\n",
    "    # load and resample audio data from 48 to 16kHz\n",
    "    audio = batch[\"audio\"]\n",
    "\n",
    "    # compute log-Mel input features from input audio array\n",
    "    batch[\"input_features\"] = feature_extractor(audio[\"array\"], sampling_rate=audio[\"sampling_rate\"]).input_features[0]\n",
    "\n",
    "    # encode target text to label ids\n",
    "    batch[\"labels\"] = tokenizer(batch[\"transcription\"]).input_ids\n",
    "    return batch"
   ]
  },
  {
   "cell_type": "code",
   "execution_count": null,
   "metadata": {
    "execution": {
     "iopub.execute_input": "2025-01-23T12:12:06.095773Z",
     "iopub.status.busy": "2025-01-23T12:12:06.095466Z",
     "iopub.status.idle": "2025-01-23T12:12:09.962886Z",
     "shell.execute_reply": "2025-01-23T12:12:09.962149Z",
     "shell.execute_reply.started": "2025-01-23T12:12:06.095751Z"
    },
    "id": "7b73ab39-ffaf-4b9e-86e5-782963c6134b",
    "trusted": true
   },
   "outputs": [],
   "source": [
    "common_voice = common_voice.map(prepare_dataset, remove_columns=common_voice.column_names[\"train\"], num_proc=2)"
   ]
  },
  {
   "cell_type": "markdown",
   "metadata": {
    "id": "263a5a58-0239-4a25-b0df-c625fc9c5810"
   },
   "source": [
    "## Training and Evaluation"
   ]
  },
  {
   "cell_type": "markdown",
   "metadata": {
    "id": "daf2a825-6d9f-4a23-b145-c37c0039075b"
   },
   "source": [
    "### Load a Pre-Trained Checkpoint"
   ]
  },
  {
   "cell_type": "code",
   "execution_count": null,
   "metadata": {
    "execution": {
     "iopub.execute_input": "2025-01-23T12:43:52.265106Z",
     "iopub.status.busy": "2025-01-23T12:43:52.264807Z",
     "iopub.status.idle": "2025-01-23T12:43:52.671651Z",
     "shell.execute_reply": "2025-01-23T12:43:52.670773Z",
     "shell.execute_reply.started": "2025-01-23T12:43:52.265084Z"
    },
    "id": "5a10cc4b-07ec-4ebd-ac1d-7c601023594f",
    "trusted": true
   },
   "outputs": [],
   "source": [
    "from transformers import WhisperForConditionalGeneration\n",
    "\n",
    "model = WhisperForConditionalGeneration.from_pretrained(\"alisharifi/whisper-farsi\")"
   ]
  },
  {
   "cell_type": "code",
   "execution_count": null,
   "metadata": {
    "execution": {
     "iopub.execute_input": "2025-01-23T12:44:03.546964Z",
     "iopub.status.busy": "2025-01-23T12:44:03.546650Z",
     "iopub.status.idle": "2025-01-23T12:44:03.550899Z",
     "shell.execute_reply": "2025-01-23T12:44:03.549943Z",
     "shell.execute_reply.started": "2025-01-23T12:44:03.546941Z"
    },
    "id": "62038ba3-88ed-4fce-84db-338f50dcd04f",
    "trusted": true
   },
   "outputs": [],
   "source": [
    "model.generation_config.language = \"fa\"\n",
    "model.generation_config.task = \"transcribe\"\n",
    "\n",
    "model.generation_config.forced_decoder_ids = None"
   ]
  },
  {
   "cell_type": "markdown",
   "metadata": {
    "id": "8d230e6d-624c-400a-bbf5-fa660881df25"
   },
   "source": [
    "### Define a Data Collator"
   ]
  },
  {
   "cell_type": "code",
   "execution_count": null,
   "metadata": {
    "execution": {
     "iopub.execute_input": "2025-01-23T12:44:06.026231Z",
     "iopub.status.busy": "2025-01-23T12:44:06.025934Z",
     "iopub.status.idle": "2025-01-23T12:44:06.033431Z",
     "shell.execute_reply": "2025-01-23T12:44:06.032284Z",
     "shell.execute_reply.started": "2025-01-23T12:44:06.026209Z"
    },
    "id": "8326221e-ec13-4731-bb4e-51e5fc1486c5",
    "trusted": true
   },
   "outputs": [],
   "source": [
    "import torch\n",
    "\n",
    "from dataclasses import dataclass\n",
    "from typing import Any, Dict, List, Union\n",
    "\n",
    "@dataclass\n",
    "class DataCollatorSpeechSeq2SeqWithPadding:\n",
    "    processor: Any\n",
    "    decoder_start_token_id: int\n",
    "\n",
    "    def __call__(self, features: List[Dict[str, Union[List[int], torch.Tensor]]]) -> Dict[str, torch.Tensor]:\n",
    "        # split inputs and labels since they have to be of different lengths and need different padding methods\n",
    "        # first treat the audio inputs by simply returning torch tensors\n",
    "        input_features = [{\"input_features\": feature[\"input_features\"]} for feature in features]\n",
    "        batch = self.processor.feature_extractor.pad(input_features, return_tensors=\"pt\")\n",
    "\n",
    "        # get the tokenized label sequences\n",
    "        label_features = [{\"input_ids\": feature[\"labels\"]} for feature in features]\n",
    "        # pad the labels to max length\n",
    "        labels_batch = self.processor.tokenizer.pad(label_features, return_tensors=\"pt\")\n",
    "\n",
    "        # replace padding with -100 to ignore loss correctly\n",
    "        labels = labels_batch[\"input_ids\"].masked_fill(labels_batch.attention_mask.ne(1), -100)\n",
    "\n",
    "        # if bos token is appended in previous tokenization step,\n",
    "        # cut bos token here as it's append later anyways\n",
    "        if (labels[:, 0] == self.decoder_start_token_id).all().cpu().item():\n",
    "            labels = labels[:, 1:]\n",
    "\n",
    "        batch[\"labels\"] = labels\n",
    "\n",
    "        return batch"
   ]
  },
  {
   "cell_type": "code",
   "execution_count": null,
   "metadata": {
    "execution": {
     "iopub.execute_input": "2025-01-23T12:44:08.309015Z",
     "iopub.status.busy": "2025-01-23T12:44:08.308722Z",
     "iopub.status.idle": "2025-01-23T12:44:08.312746Z",
     "shell.execute_reply": "2025-01-23T12:44:08.311775Z",
     "shell.execute_reply.started": "2025-01-23T12:44:08.308993Z"
    },
    "id": "fc834702-c0d3-4a96-b101-7b87be32bf42",
    "trusted": true
   },
   "outputs": [],
   "source": [
    "data_collator = DataCollatorSpeechSeq2SeqWithPadding(\n",
    "    processor=processor,\n",
    "    decoder_start_token_id=model.config.decoder_start_token_id,\n",
    ")"
   ]
  },
  {
   "cell_type": "markdown",
   "metadata": {
    "id": "d62bb2ab-750a-45e7-82e9-61d6f4805698"
   },
   "source": [
    "### Evaluation Metrics"
   ]
  },
  {
   "cell_type": "code",
   "execution_count": null,
   "metadata": {
    "execution": {
     "iopub.execute_input": "2025-01-23T12:44:10.065748Z",
     "iopub.status.busy": "2025-01-23T12:44:10.065426Z",
     "iopub.status.idle": "2025-01-23T12:44:10.527500Z",
     "shell.execute_reply": "2025-01-23T12:44:10.526838Z",
     "shell.execute_reply.started": "2025-01-23T12:44:10.065721Z"
    },
    "id": "b22b4011-f31f-4b57-b684-c52332f92890",
    "trusted": true
   },
   "outputs": [],
   "source": [
    "import evaluate\n",
    "\n",
    "metric = evaluate.load(\"wer\")\n",
    "metric_cer = evaluate.load('cer')"
   ]
  },
  {
   "cell_type": "code",
   "execution_count": null,
   "metadata": {
    "execution": {
     "iopub.execute_input": "2025-01-23T12:44:11.722661Z",
     "iopub.status.busy": "2025-01-23T12:44:11.722234Z",
     "iopub.status.idle": "2025-01-23T12:44:11.727524Z",
     "shell.execute_reply": "2025-01-23T12:44:11.726566Z",
     "shell.execute_reply.started": "2025-01-23T12:44:11.722628Z"
    },
    "id": "23959a70-22d0-4ffe-9fa1-72b61e75bb52",
    "trusted": true
   },
   "outputs": [],
   "source": [
    "def compute_metrics(pred):\n",
    "    pred_ids = pred.predictions\n",
    "    label_ids = pred.label_ids\n",
    "\n",
    "    # replace -100 with the pad_token_id\n",
    "    label_ids[label_ids == -100] = tokenizer.pad_token_id\n",
    "\n",
    "    # we do not want to group tokens when computing the metrics\n",
    "    pred_str = tokenizer.batch_decode(pred_ids, skip_special_tokens=True)\n",
    "    label_str = tokenizer.batch_decode(label_ids, skip_special_tokens=True)\n",
    "\n",
    "    wer = 100 * metric.compute(predictions=pred_str, references=label_str)\n",
    "    cer = 100 * metric_cer.compute(predictions=pred_str, references=label_str)\n",
    "\n",
    "    return {\"wer\": wer, 'cer': cer}"
   ]
  },
  {
   "cell_type": "markdown",
   "metadata": {
    "id": "2178dea4-80ca-47b6-b6ea-ba1915c90c06"
   },
   "source": [
    "### Define the Training Configuration"
   ]
  },
  {
   "cell_type": "code",
   "execution_count": null,
   "metadata": {
    "execution": {
     "iopub.execute_input": "2025-01-23T13:04:03.732420Z",
     "iopub.status.busy": "2025-01-23T13:04:03.732029Z",
     "iopub.status.idle": "2025-01-23T13:04:03.761097Z",
     "shell.execute_reply": "2025-01-23T13:04:03.760457Z",
     "shell.execute_reply.started": "2025-01-23T13:04:03.732379Z"
    },
    "id": "0ae3e9af-97b7-4aa0-ae85-20b23b5bcb3a",
    "trusted": true
   },
   "outputs": [],
   "source": [
    "from transformers import Seq2SeqTrainingArguments\n",
    "\n",
    "training_args = Seq2SeqTrainingArguments(\n",
    "    output_dir=\"whisper-small-fa\",  # change to a repo name of your choice\n",
    "    per_device_train_batch_size=16,\n",
    "    gradient_accumulation_steps=1,  # increase by 2x for every 2x decrease in batch size\n",
    "    learning_rate=1e-6,\n",
    "    warmup_steps=500,    \n",
    "    max_steps=5000,\n",
    "    gradient_checkpointing=True,\n",
    "    fp16=True,\n",
    "    evaluation_strategy=\"steps\",\n",
    "    per_device_eval_batch_size=8,\n",
    "    predict_with_generate=True,\n",
    "    generation_max_length=225,\n",
    "    save_steps=200,\n",
    "    eval_steps=200,\n",
    "    logging_steps=10,\n",
    "    logging_dir='logs',\n",
    "    report_to=['tensorboard'],\n",
    "    load_best_model_at_end=True,\n",
    "    metric_for_best_model=\"wer\",\n",
    "    greater_is_better=False,\n",
    "    push_to_hub=False,\n",
    "    logging_first_step=True,\n",
    ")"
   ]
  },
  {
   "cell_type": "code",
   "execution_count": null,
   "metadata": {
    "execution": {
     "iopub.execute_input": "2025-01-23T13:04:05.330421Z",
     "iopub.status.busy": "2025-01-23T13:04:05.330062Z",
     "iopub.status.idle": "2025-01-23T13:04:05.347601Z",
     "shell.execute_reply": "2025-01-23T13:04:05.346906Z",
     "shell.execute_reply.started": "2025-01-23T13:04:05.330374Z"
    },
    "id": "d546d7fe-0543-479a-b708-2ebabec19493",
    "trusted": true
   },
   "outputs": [],
   "source": [
    "from transformers import Seq2SeqTrainer\n",
    "\n",
    "trainer = Seq2SeqTrainer(\n",
    "    args=training_args,\n",
    "    model=model,\n",
    "    train_dataset=common_voice[\"train\"],\n",
    "    eval_dataset=common_voice[\"val\"],\n",
    "    data_collator=data_collator,\n",
    "    compute_metrics=compute_metrics,\n",
    "    tokenizer=processor.feature_extractor,\n",
    ")"
   ]
  },
  {
   "cell_type": "code",
   "execution_count": null,
   "metadata": {
    "execution": {
     "iopub.execute_input": "2025-01-23T13:04:06.713997Z",
     "iopub.status.busy": "2025-01-23T13:04:06.713697Z",
     "iopub.status.idle": "2025-01-23T13:04:07.124364Z",
     "shell.execute_reply": "2025-01-23T13:04:07.123575Z",
     "shell.execute_reply.started": "2025-01-23T13:04:06.713976Z"
    },
    "id": "-2zQwMfEOBJq",
    "trusted": true
   },
   "outputs": [],
   "source": [
    "processor.save_pretrained(training_args.output_dir)"
   ]
  },
  {
   "cell_type": "markdown",
   "metadata": {
    "id": "7f404cf9-4345-468c-8196-4bd101d9bd51"
   },
   "source": [
    "### Training"
   ]
  },
  {
   "cell_type": "code",
   "execution_count": null,
   "metadata": {
    "execution": {
     "iopub.execute_input": "2025-01-23T13:04:11.253302Z",
     "iopub.status.busy": "2025-01-23T13:04:11.253007Z",
     "iopub.status.idle": "2025-01-23T13:10:19.464799Z",
     "shell.execute_reply": "2025-01-23T13:10:19.463583Z",
     "shell.execute_reply.started": "2025-01-23T13:04:11.253280Z"
    },
    "id": "ee8b7b8e-1c9a-4d77-9137-1778a629e6de",
    "trusted": true
   },
   "outputs": [],
   "source": [
    "trainer.train()"
   ]
  },
  {
   "cell_type": "code",
   "execution_count": null,
   "metadata": {
    "trusted": true
   },
   "outputs": [],
   "source": [
    "trainer.save_model('final_model')"
   ]
  },
  {
   "cell_type": "code",
   "execution_count": null,
   "metadata": {},
   "outputs": [],
   "source": []
  }
 ],
 "metadata": {
  "accelerator": "GPU",
  "colab": {
   "gpuType": "T4",
   "provenance": []
  },
  "kaggle": {
   "accelerator": "gpu",
   "dataSources": [
    {
     "datasetId": 4455962,
     "sourceId": 7781896,
     "sourceType": "datasetVersion"
    }
   ],
   "dockerImageVersionId": 30839,
   "isGpuEnabled": true,
   "isInternetEnabled": true,
   "language": "python",
   "sourceType": "notebook"
  },
  "kernelspec": {
   "display_name": "Python 3",
   "language": "python",
   "name": "python3"
  },
  "language_info": {
   "codemirror_mode": {
    "name": "ipython",
    "version": 3
   },
   "file_extension": ".py",
   "mimetype": "text/x-python",
   "name": "python",
   "nbconvert_exporter": "python",
   "pygments_lexer": "ipython3",
   "version": "3.10.12"
  }
 },
 "nbformat": 4,
 "nbformat_minor": 4
}
